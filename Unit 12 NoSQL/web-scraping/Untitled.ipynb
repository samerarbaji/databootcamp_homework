{
 "cells": [
  {
   "cell_type": "code",
   "execution_count": 1,
   "metadata": {},
   "outputs": [
    {
     "name": "stdout",
     "output_type": "stream",
     "text": [
      "Collecting Flask-PyMongo\n",
      "  Downloading Flask_PyMongo-2.3.0-py2.py3-none-any.whl (12 kB)\n",
      "Requirement already satisfied: PyMongo>=3.3 in c:\\users\\samer\\anaconda3\\lib\\site-packages (from Flask-PyMongo) (3.11.2)\n",
      "Requirement already satisfied: Flask>=0.11 in c:\\users\\samer\\anaconda3\\lib\\site-packages (from Flask-PyMongo) (1.1.2)\n",
      "Requirement already satisfied: Werkzeug>=0.15 in c:\\users\\samer\\anaconda3\\lib\\site-packages (from Flask>=0.11->Flask-PyMongo) (1.0.1)\n",
      "Requirement already satisfied: itsdangerous>=0.24 in c:\\users\\samer\\anaconda3\\lib\\site-packages (from Flask>=0.11->Flask-PyMongo) (1.1.0)\n",
      "Requirement already satisfied: click>=5.1 in c:\\users\\samer\\anaconda3\\lib\\site-packages (from Flask>=0.11->Flask-PyMongo) (7.1.2)\n",
      "Requirement already satisfied: Jinja2>=2.10.1 in c:\\users\\samer\\anaconda3\\lib\\site-packages (from Flask>=0.11->Flask-PyMongo) (2.11.2)\n",
      "Requirement already satisfied: MarkupSafe>=0.23 in c:\\users\\samer\\anaconda3\\lib\\site-packages (from Jinja2>=2.10.1->Flask>=0.11->Flask-PyMongo) (1.1.1)\n",
      "Installing collected packages: Flask-PyMongo\n",
      "Successfully installed Flask-PyMongo-2.3.0\n"
     ]
    }
   ],
   "source": [
    "! pip install Flask-PyMongo"
   ]
  },
  {
   "cell_type": "code",
   "execution_count": null,
   "metadata": {},
   "outputs": [],
   "source": []
  }
 ],
 "metadata": {
  "kernelspec": {
   "display_name": "Python 3",
   "language": "python",
   "name": "python3"
  },
  "language_info": {
   "codemirror_mode": {
    "name": "ipython",
    "version": 3
   },
   "file_extension": ".py",
   "mimetype": "text/x-python",
   "name": "python",
   "nbconvert_exporter": "python",
   "pygments_lexer": "ipython3",
   "version": "3.8.3"
  }
 },
 "nbformat": 4,
 "nbformat_minor": 4
}
